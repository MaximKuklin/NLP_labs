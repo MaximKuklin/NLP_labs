{
 "cells": [
  {
   "cell_type": "code",
   "execution_count": 71,
   "metadata": {
    "collapsed": true
   },
   "outputs": [],
   "source": [
    "from preprocessing import parse_data, vectorize_texts, LABELS\n",
    "\n",
    "from sklearn.linear_model import LogisticRegression\n",
    "from sklearn.model_selection import train_test_split\n",
    "import sklearn.metrics as metrics\n",
    "import pandas as pd\n",
    "import numpy as np\n",
    "# from sklearn.metrics import plot_confusion_matrix\n",
    "from sklearn.metrics import confusion_matrix\n",
    "from tqdm import tqdm_notebook\n",
    "from sklearn import svm\n",
    "from sklearn.naive_bayes import MultinomialNB\n",
    "from sklearn.neighbors import KNeighborsClassifier\n",
    "from sklearn.tree import DecisionTreeClassifier\n",
    "from sklearn.discriminant_analysis import LinearDiscriminantAnalysis\n",
    "from sklearn.ensemble import RandomForestClassifier, AdaBoostClassifier, GradientBoostingClassifier\n",
    "import matplotlib.pyplot as plt\n",
    "import itertools"
   ]
  },
  {
   "cell_type": "code",
   "execution_count": 74,
   "outputs": [],
   "source": [
    "def get_metrics(model, test_data, test_label):\n",
    "    y_pred = model.predict(test_data)\n",
    "    acc = metrics.accuracy_score(test_label, y_pred)\n",
    "    f1 = metrics.f1_score(test_label, y_pred, average='weighted')\n",
    "    precision = metrics.precision_score(test_label, y_pred, average='weighted')\n",
    "    recall = metrics.recall_score(test_label, y_pred, average='weighted')\n",
    "\n",
    "    results = {\n",
    "        \"acc\": acc,\n",
    "        \"f1\": f1,\n",
    "        \"precision\": precision,\n",
    "        \"recall\": recall,\n",
    "    }\n",
    "\n",
    "    return results, y_pred\n",
    "\n",
    "\n",
    "def add_result(table, results):\n",
    "    table = table.append(results, ignore_index=True)\n",
    "    return table\n",
    "\n",
    "\n",
    "def create_table(meta):\n",
    "    table = pd.DataFrame()\n",
    "    new_index = {}\n",
    "    for i, (key, data) in enumerate(meta.items()):\n",
    "        new_index[i] = key\n",
    "        metrics = data['metrics']\n",
    "        table = add_result(table, metrics)\n",
    "    table = table.rename(index=new_index)\n",
    "    return table\n",
    "\n",
    "# def plot_conf_matrixes(meta):\n",
    "#     fig, axes = plt.subplots(nrows=2, ncols=1, figsize=(15,10))\n",
    "#\n",
    "#     for cls, ax in zip(meta.keys(), axes.flatten()):\n",
    "#         y_pred = meta[cls]['prediction']\n",
    "#\n",
    "#         cm = confusion_matrix(y_test, y_pred)\n",
    "#         _plot_confusion_matrix(cm, ax)\n",
    "#         # ax.title.set_text(type(cls).__name__)\n",
    "#     # plt.tight_layout()\n",
    "#     plt.show()\n",
    "\n",
    "\n",
    "def _plot_confusion_matrix(cm, title='Confusion matrix', cmap=plt.cm.Oranges):\n",
    "    plt.imshow(cm, interpolation='nearest', cmap=cmap)\n",
    "    plt.title(title)\n",
    "    plt.colorbar()\n",
    "    tick_marks = np.arange(len(LABELS.keys()))\n",
    "    plt.xticks(tick_marks, rotation=45)\n",
    "    ax = plt.gca()\n",
    "    ax.set_xticklabels((ax.get_xticks()).astype(str))\n",
    "    plt.yticks(tick_marks)\n",
    "\n",
    "    thresh = cm.max() / 2.\n",
    "    for i, j in itertools.product(range(cm.shape[0]), range(cm.shape[1])):\n",
    "        plt.text(j, i, cm[i, j],\n",
    "                 horizontalalignment=\"center\",\n",
    "                 color=\"white\" if cm[i, j] > thresh else \"black\")\n",
    "\n",
    "    plt.tight_layout()\n",
    "    plt.ylabel('True label')\n",
    "    plt.xlabel('Predicted label')\n",
    "\n",
    "def plot_confusion_matrix(y_test, y_pred, label='Confusion matrix'):\n",
    "    cm = confusion_matrix(y_test, y_pred)\n",
    "    np.set_printoptions(precision=2)\n",
    "    fig, ax = plt.subplots()\n",
    "    _plot_confusion_matrix(cm, title=label)"
   ],
   "metadata": {
    "collapsed": false,
    "pycharm": {
     "name": "#%%\n"
    }
   }
  },
  {
   "cell_type": "code",
   "execution_count": 3,
   "outputs": [
    {
     "name": "stderr",
     "output_type": "stream",
     "text": [
      "100%|██████████| 3626/3626 [01:10<00:00, 51.31it/s] \n"
     ]
    }
   ],
   "source": [
    "texts, labels = parse_data()\n",
    "vectors = vectorize_texts(texts)"
   ],
   "metadata": {
    "collapsed": false,
    "pycharm": {
     "name": "#%%\n"
    }
   }
  },
  {
   "cell_type": "code",
   "execution_count": 4,
   "outputs": [],
   "source": [
    "X_train, X_test, y_train, y_test = train_test_split(\n",
    "   vectors, labels, test_size=0.25, random_state=1000)\n"
   ],
   "metadata": {
    "collapsed": false,
    "pycharm": {
     "name": "#%%\n"
    }
   }
  },
  {
   "cell_type": "code",
   "execution_count": 54,
   "outputs": [],
   "source": [
    "classifier_list = [\n",
    "    MultinomialNB(),\n",
    "    LogisticRegression(),\n",
    "    # KNeighborsClassifier(n_neighbors=3),\n",
    "    # DecisionTreeClassifier(),\n",
    "    # svm.SVC(),\n",
    "    # LinearDiscriminantAnalysis(),\n",
    "    # RandomForestClassifier(),\n",
    "    # AdaBoostClassifier(),\n",
    "    # GradientBoostingClassifier()\n",
    "                    ]"
   ],
   "metadata": {
    "collapsed": false,
    "pycharm": {
     "name": "#%%\n"
    }
   }
  },
  {
   "cell_type": "code",
   "execution_count": 55,
   "outputs": [
    {
     "name": "stderr",
     "output_type": "stream",
     "text": [
      "<ipython-input-55-9caff9d67856>:3: TqdmDeprecationWarning: This function will be removed in tqdm==5.0.0\n",
      "Please use `tqdm.notebook.tqdm` instead of `tqdm.tqdm_notebook`\n",
      "  for classifier in tqdm_notebook(classifier_list):\n"
     ]
    },
    {
     "data": {
      "text/plain": "  0%|          | 0/2 [00:00<?, ?it/s]",
      "application/vnd.jupyter.widget-view+json": {
       "version_major": 2,
       "version_minor": 0,
       "model_id": "bafed872ef5d4d70982a79ffc30cfcfa"
      }
     },
     "metadata": {},
     "output_type": "display_data"
    }
   ],
   "source": [
    "meta = {}\n",
    "\n",
    "for classifier in tqdm_notebook(classifier_list):\n",
    "    classifier.fit(X_train, y_train)\n",
    "    name = str(classifier)[:-2]\n",
    "\n",
    "    meta[name] = {}\n",
    "    meta[name]['classifier'] = classifier\n",
    "    meta[name]['metrics'], meta[name]['prediction'] = \\\n",
    "        get_metrics(classifier, X_test, y_test)\n"
   ],
   "metadata": {
    "collapsed": false,
    "pycharm": {
     "name": "#%%\n"
    }
   }
  },
  {
   "cell_type": "code",
   "execution_count": 60,
   "outputs": [
    {
     "data": {
      "text/plain": "                         acc        f1  precision    recall\nMultinomialNB       0.881881  0.880335   0.881116  0.881881\nLogisticRegression  0.872706  0.872897   0.874766  0.872706",
      "text/html": "<div>\n<style scoped>\n    .dataframe tbody tr th:only-of-type {\n        vertical-align: middle;\n    }\n\n    .dataframe tbody tr th {\n        vertical-align: top;\n    }\n\n    .dataframe thead th {\n        text-align: right;\n    }\n</style>\n<table border=\"1\" class=\"dataframe\">\n  <thead>\n    <tr style=\"text-align: right;\">\n      <th></th>\n      <th>acc</th>\n      <th>f1</th>\n      <th>precision</th>\n      <th>recall</th>\n    </tr>\n  </thead>\n  <tbody>\n    <tr>\n      <th>MultinomialNB</th>\n      <td>0.881881</td>\n      <td>0.880335</td>\n      <td>0.881116</td>\n      <td>0.881881</td>\n    </tr>\n    <tr>\n      <th>LogisticRegression</th>\n      <td>0.872706</td>\n      <td>0.872897</td>\n      <td>0.874766</td>\n      <td>0.872706</td>\n    </tr>\n  </tbody>\n</table>\n</div>"
     },
     "execution_count": 60,
     "metadata": {},
     "output_type": "execute_result"
    }
   ],
   "source": [
    "table = create_table(meta)\n",
    "table"
   ],
   "metadata": {
    "collapsed": false,
    "pycharm": {
     "name": "#%%\n"
    }
   }
  },
  {
   "cell_type": "code",
   "execution_count": 66,
   "outputs": [
    {
     "name": "stderr",
     "output_type": "stream",
     "text": [
      "<ipython-input-65-6778ff6e1f38>:53: UserWarning: FixedFormatter should only be used together with FixedLocator\n",
      "  ax.set_xticklabels((ax.get_xticks()).astype(str))\n"
     ]
    },
    {
     "data": {
      "text/plain": "<Figure size 1080x720 with 2 Axes>",
      "image/png": "[encoded data removed]"
     },
     "metadata": {
      "needs_background": "light"
     },
     "output_type": "display_data"
    }
   ],
   "source": [],
   "metadata": {
    "collapsed": false,
    "pycharm": {
     "name": "#%%\n"
    }
   }
  },
  {
   "cell_type": "code",
   "execution_count": 77,
   "outputs": [
    {
     "data": {
      "text/plain": "<Figure size 432x288 with 2 Axes>",
      "image/png": "[encoded data removed]"
     },
     "metadata": {
      "needs_background": "light"
     },
     "output_type": "display_data"
    },
    {
     "data": {
      "text/plain": "<Figure size 432x288 with 2 Axes>",
      "image/png": "[encoded data removed]"
     },
     "metadata": {
      "needs_background": "light"
     },
     "output_type": "display_data"
    }
   ],
   "source": [
    "for cls in meta.keys():\n",
    "    plot_confusion_matrix(y_test, meta[cls]['prediction'], str(meta[cls]['classifier'])[:-2])"
   ],
   "metadata": {
    "collapsed": false,
    "pycharm": {
     "name": "#%%\n"
    }
   }
  },
  {
   "cell_type": "code",
   "execution_count": null,
   "outputs": [],
   "source": [],
   "metadata": {
    "collapsed": false,
    "pycharm": {
     "name": "#%%\n"
    }
   }
  }
 ],
 "metadata": {
  "kernelspec": {
   "name": "python3",
   "language": "python",
   "display_name": "Python 3"
  },
  "language_info": {
   "codemirror_mode": {
    "name": "ipython",
    "version": 2
   },
   "file_extension": ".py",
   "mimetype": "text/x-python",
   "name": "python",
   "nbconvert_exporter": "python",
   "pygments_lexer": "ipython2",
   "version": "2.7.6"
  }
 },
 "nbformat": 4,
 "nbformat_minor": 0
}